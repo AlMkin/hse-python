{
 "cells": [
  {
   "cell_type": "code",
   "execution_count": null,
   "id": "c63cce6e-4b87-47b9-9d83-c52f18bd04f2",
   "metadata": {},
   "outputs": [],
   "source": [
    "Задание №1"
   ]
  },
  {
   "cell_type": "code",
   "execution_count": 3,
   "id": "5adfe577-fa86-4bfa-bf98-4fe3d359714a",
   "metadata": {},
   "outputs": [
    {
     "name": "stdout",
     "output_type": "stream",
     "text": [
      "2024 Високосный год\n"
     ]
    }
   ],
   "source": [
    "def is_leap_year(year):\n",
    "    if (year % 4 == 0 and year % 100 != 0) or (year % 400 == 0):\n",
    "        return True\n",
    "    else:\n",
    "        return False\n",
    "\n",
    "year = 2024\n",
    "\n",
    "if is_leap_year(year):\n",
    "    print(f\"{year} Високосный год\")\n",
    "else:\n",
    "    print(f\"{year} Обычный год\")"
   ]
  },
  {
   "cell_type": "code",
   "execution_count": null,
   "id": "dceba39b-1268-4c6d-b82d-ad6eead1ae55",
   "metadata": {},
   "outputs": [],
   "source": [
    "Задание №2"
   ]
  },
  {
   "cell_type": "code",
   "execution_count": 4,
   "id": "20a11a8c-a955-47d6-a753-07e12d093d55",
   "metadata": {},
   "outputs": [
    {
     "name": "stdout",
     "output_type": "stream",
     "text": [
      "Счастливый билет\n"
     ]
    }
   ],
   "source": [
    "def is_lucky_ticket(number):\n",
    "    num_str = str(number)\n",
    "    \n",
    "    first_half = num_str[:3]\n",
    "    second_half = num_str[3:]\n",
    "    \n",
    "    sum_first_half = sum(int(digit) for digit in first_half)\n",
    "    sum_second_half = sum(int(digit) for digit in second_half)\n",
    "    \n",
    "    return sum_first_half == sum_second_half\n",
    "\n",
    "number = 123321\n",
    "\n",
    "if is_lucky_ticket(number):\n",
    "    print(\"Счастливый билет\")\n",
    "else:\n",
    "    print(\"Несчастливый билет\")"
   ]
  },
  {
   "cell_type": "code",
   "execution_count": null,
   "id": "32ac95b9-1cac-44c3-af43-ed0344a14fff",
   "metadata": {},
   "outputs": [],
   "source": []
  }
 ],
 "metadata": {
  "kernelspec": {
   "display_name": "Python 3 (ipykernel)",
   "language": "python",
   "name": "python3"
  },
  "language_info": {
   "codemirror_mode": {
    "name": "ipython",
    "version": 3
   },
   "file_extension": ".py",
   "mimetype": "text/x-python",
   "name": "python",
   "nbconvert_exporter": "python",
   "pygments_lexer": "ipython3",
   "version": "3.12.4"
  }
 },
 "nbformat": 4,
 "nbformat_minor": 5
}
